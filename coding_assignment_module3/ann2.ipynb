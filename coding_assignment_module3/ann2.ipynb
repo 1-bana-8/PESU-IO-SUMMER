{
 "cells": [
  {
   "cell_type": "code",
   "execution_count": 17,
   "metadata": {},
   "outputs": [],
   "source": [
    "import torch\n",
    "import torch.nn as nn"
   ]
  },
  {
   "cell_type": "code",
   "execution_count": 18,
   "metadata": {},
   "outputs": [],
   "source": [
    "n_in, n_h, n_out, batch_size = 10, 5, 1, 10"
   ]
  },
  {
   "cell_type": "code",
   "execution_count": 19,
   "metadata": {},
   "outputs": [],
   "source": [
    "x = torch.rand(batch_size, n_in)\n",
    "y = torch.tensor(([85],[180],[29],[89],[95],[7],[81],[65],[52],[66]),dtype=torch.float)"
   ]
  },
  {
   "cell_type": "code",
   "execution_count": 20,
   "metadata": {},
   "outputs": [],
   "source": [
    "model = nn.Sequential(nn.Linear(n_in, n_h),nn.ReLU(),nn.Linear(n_h, n_out),nn.Sigmoid())"
   ]
  },
  {
   "cell_type": "code",
   "execution_count": 21,
   "metadata": {},
   "outputs": [],
   "source": [
    "cr=torch.nn.MSELoss()"
   ]
  },
  {
   "cell_type": "code",
   "execution_count": 22,
   "metadata": {},
   "outputs": [],
   "source": [
    "op=torch.optim.SGD(model.parameters(),lr=0.02)"
   ]
  },
  {
   "cell_type": "code",
   "execution_count": 25,
   "metadata": {},
   "outputs": [
    {
     "name": "stdout",
     "output_type": "stream",
     "text": [
      "epoch: 0 loss: 7444.96435546875\n",
      "epoch: 1 loss: 7395.30029296875\n",
      "epoch: 2 loss: 7384.1015625\n",
      "epoch: 3 loss: 7383.18017578125\n",
      "epoch: 4 loss: 7382.7958984375\n",
      "epoch: 5 loss: 7382.58447265625\n",
      "epoch: 6 loss: 7382.451171875\n",
      "epoch: 7 loss: 7382.35986328125\n",
      "epoch: 8 loss: 7382.29296875\n",
      "epoch: 9 loss: 7382.2431640625\n",
      "epoch: 10 loss: 7382.203125\n",
      "epoch: 11 loss: 7382.17138671875\n",
      "epoch: 12 loss: 7382.1455078125\n",
      "epoch: 13 loss: 7382.12353515625\n",
      "epoch: 14 loss: 7382.10498046875\n",
      "epoch: 15 loss: 7382.08935546875\n",
      "epoch: 16 loss: 7382.076171875\n",
      "epoch: 17 loss: 7382.06396484375\n",
      "epoch: 18 loss: 7382.0537109375\n",
      "epoch: 19 loss: 7382.04443359375\n",
      "epoch: 20 loss: 7382.0361328125\n",
      "epoch: 21 loss: 7382.02880859375\n",
      "epoch: 22 loss: 7382.02197265625\n",
      "epoch: 23 loss: 7382.01611328125\n",
      "epoch: 24 loss: 7382.01025390625\n",
      "epoch: 25 loss: 7382.00537109375\n",
      "epoch: 26 loss: 7382.00048828125\n",
      "epoch: 27 loss: 7381.99658203125\n",
      "epoch: 28 loss: 7381.99267578125\n",
      "epoch: 29 loss: 7381.98876953125\n",
      "epoch: 30 loss: 7381.9853515625\n",
      "epoch: 31 loss: 7381.982421875\n",
      "epoch: 32 loss: 7381.9794921875\n",
      "epoch: 33 loss: 7381.97607421875\n",
      "epoch: 34 loss: 7381.97412109375\n",
      "epoch: 35 loss: 7381.97119140625\n",
      "epoch: 36 loss: 7381.9697265625\n",
      "epoch: 37 loss: 7381.96728515625\n",
      "epoch: 38 loss: 7381.96533203125\n",
      "epoch: 39 loss: 7381.962890625\n",
      "epoch: 40 loss: 7381.96142578125\n",
      "epoch: 41 loss: 7381.9599609375\n",
      "epoch: 42 loss: 7381.9580078125\n",
      "epoch: 43 loss: 7381.95654296875\n",
      "epoch: 44 loss: 7381.95556640625\n",
      "epoch: 45 loss: 7381.95361328125\n",
      "epoch: 46 loss: 7381.95263671875\n",
      "epoch: 47 loss: 7381.95166015625\n",
      "epoch: 48 loss: 7381.94970703125\n",
      "epoch: 49 loss: 7381.94873046875\n"
     ]
    }
   ],
   "source": [
    "for epoch in range(50):\n",
    "    yp=model(x)\n",
    "    loss=cr(yp,y)\n",
    "    print(\"epoch:\",epoch,\"loss:\",loss.item())\n",
    "    op.zero_grad()\n",
    "    loss.backward()\n",
    "    op.step()"
   ]
  },
  {
   "cell_type": "code",
   "execution_count": null,
   "metadata": {},
   "outputs": [],
   "source": []
  }
 ],
 "metadata": {
  "kernelspec": {
   "display_name": "Python 3",
   "language": "python",
   "name": "python3"
  },
  "language_info": {
   "codemirror_mode": {
    "name": "ipython",
    "version": 3
   },
   "file_extension": ".py",
   "mimetype": "text/x-python",
   "name": "python",
   "nbconvert_exporter": "python",
   "pygments_lexer": "ipython3",
   "version": "3.7.3"
  }
 },
 "nbformat": 4,
 "nbformat_minor": 2
}
